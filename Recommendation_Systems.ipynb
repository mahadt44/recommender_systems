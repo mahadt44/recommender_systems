{
 "cells": [
  {
   "cell_type": "markdown",
   "metadata": {
    "id": "EI2ieBaCrZtk"
   },
   "source": [
    "# Recommendation Systems"
   ]
  },
  {
   "cell_type": "markdown",
   "metadata": {
    "id": "jdtZu2LOrZtm"
   },
   "source": [
    "## 1. Introduction and Data\n",
    "\n",
    "In this project we are going to take a look at one of the <a href=\"http://grouplens.org/datasets/movielens/\">MovieLens</a> data sets, more precisely the smallest one (<a href=\"http://files.grouplens.org/datasets/movielens/ml-100k.zip\">ml-100k.zip</a>). Our data set includes 100,000 ratings of ~1.700 movies from ~1.000 users.\n",
    "\n",
    "We start by reading the data into a <a href=\"http://pandas.pydata.org/pandas-docs/stable/generated/pandas.DataFrame.html\">Pandas data frame</a>. This allows us to asses the quality of the data set and gain first insights. Once we have established a fundamental understanding we proceed by building a simple recommendation system for movies."
   ]
  },
  {
   "cell_type": "code",
   "execution_count": 1,
   "metadata": {
    "id": "PatNA8r7rZtn"
   },
   "outputs": [],
   "source": [
    "import os\n",
    "\n",
    "data_path = '.' + os.sep + 'ml-100k'"
   ]
  },
  {
   "cell_type": "markdown",
   "metadata": {
    "id": "hck6kHYlrZto"
   },
   "source": [
    "The files we have got the following documentation. Note that we are just using 'u.data' and 'u.item', while throwing away some meta data.\n",
    "\n",
    "<i>\n",
    "<hr />\n",
    "u.data     -- The full u data set, 100000 ratings by 943 users on 1682 items.\n",
    "              Each user has rated at least 20 movies.  Users and items are\n",
    "              numbered consecutively from 1.  The data is randomly\n",
    "              ordered. This is a tab separated list of\n",
    "\t         user id | item id | rating | timestamp.\n",
    "              The time stamps are unix seconds since 1/1/1970 UTC <br />\n",
    "\n",
    "u.info     -- The number of users, items, and ratings in the u data set. <br />\n",
    "\n",
    "u.item     -- Information about the items (movies); this is a tab separated\n",
    "              list of\n",
    "              movie id | movie title | release date | video release date |\n",
    "              IMDb URL | unknown | Action | Adventure | Animation |\n",
    "              Children's | Comedy | Crime | Documentary | Drama | Fantasy |\n",
    "              Film-Noir | Horror | Musical | Mystery | Romance | Sci-Fi |\n",
    "              Thriller | War | Western |\n",
    "              The last 19 fields are the genres, a 1 indicates the movie\n",
    "              is of that genre, a 0 indicates it is not; movies can be in\n",
    "              several genres at once.\n",
    "              The movie ids are the ones used in the u.data data set. <br />\n",
    "\n",
    "u.genre    -- A list of the genres. <br />\n",
    "\n",
    "u.user     -- Demographic information about the users; this is a tab <br />\n",
    "              separated list of\n",
    "              user id | age | gender | occupation | zip code\n",
    "              The user ids are the ones used in the u.data data set.\n",
    "</i>\n",
    "<hr />\n",
    "\n",
    "So let's read our data."
   ]
  },
  {
   "cell_type": "code",
   "execution_count": 2,
   "metadata": {
    "id": "Cj_QWXi1rZtp"
   },
   "outputs": [
    {
     "name": "stdout",
     "output_type": "stream",
     "text": [
      "100000 data points were loaded.\n"
     ]
    },
    {
     "data": {
      "text/html": [
       "<div>\n",
       "<style scoped>\n",
       "    .dataframe tbody tr th:only-of-type {\n",
       "        vertical-align: middle;\n",
       "    }\n",
       "\n",
       "    .dataframe tbody tr th {\n",
       "        vertical-align: top;\n",
       "    }\n",
       "\n",
       "    .dataframe thead th {\n",
       "        text-align: right;\n",
       "    }\n",
       "</style>\n",
       "<table border=\"1\" class=\"dataframe\">\n",
       "  <thead>\n",
       "    <tr style=\"text-align: right;\">\n",
       "      <th></th>\n",
       "      <th>movie_id</th>\n",
       "      <th>user_id</th>\n",
       "      <th>rating</th>\n",
       "      <th>name</th>\n",
       "      <th>release_year</th>\n",
       "    </tr>\n",
       "  </thead>\n",
       "  <tbody>\n",
       "    <tr>\n",
       "      <th>0</th>\n",
       "      <td>196</td>\n",
       "      <td>242</td>\n",
       "      <td>3</td>\n",
       "      <td>Dead Poets Society (1989)</td>\n",
       "      <td>1989.0</td>\n",
       "    </tr>\n",
       "    <tr>\n",
       "      <th>1</th>\n",
       "      <td>186</td>\n",
       "      <td>302</td>\n",
       "      <td>3</td>\n",
       "      <td>Blues Brothers, The (1980)</td>\n",
       "      <td>1980.0</td>\n",
       "    </tr>\n",
       "    <tr>\n",
       "      <th>2</th>\n",
       "      <td>22</td>\n",
       "      <td>377</td>\n",
       "      <td>1</td>\n",
       "      <td>Braveheart (1995)</td>\n",
       "      <td>1996.0</td>\n",
       "    </tr>\n",
       "    <tr>\n",
       "      <th>3</th>\n",
       "      <td>244</td>\n",
       "      <td>51</td>\n",
       "      <td>2</td>\n",
       "      <td>Smilla's Sense of Snow (1997)</td>\n",
       "      <td>1997.0</td>\n",
       "    </tr>\n",
       "    <tr>\n",
       "      <th>4</th>\n",
       "      <td>166</td>\n",
       "      <td>346</td>\n",
       "      <td>1</td>\n",
       "      <td>Manon of the Spring (Manon des sources) (1986)</td>\n",
       "      <td>1986.0</td>\n",
       "    </tr>\n",
       "  </tbody>\n",
       "</table>\n",
       "</div>"
      ],
      "text/plain": [
       "   movie_id  user_id  rating                                            name  \\\n",
       "0       196      242       3                       Dead Poets Society (1989)   \n",
       "1       186      302       3                      Blues Brothers, The (1980)   \n",
       "2        22      377       1                               Braveheart (1995)   \n",
       "3       244       51       2                   Smilla's Sense of Snow (1997)   \n",
       "4       166      346       1  Manon of the Spring (Manon des sources) (1986)   \n",
       "\n",
       "   release_year  \n",
       "0        1989.0  \n",
       "1        1980.0  \n",
       "2        1996.0  \n",
       "3        1997.0  \n",
       "4        1986.0  "
      ]
     },
     "execution_count": 2,
     "metadata": {},
     "output_type": "execute_result"
    }
   ],
   "source": [
    "import pandas as pd\n",
    "\n",
    "movies = pd.read_csv(os.path.join(data_path, 'u.item'),\n",
    "                     index_col=0,\n",
    "                     sep='|',\n",
    "                     header=None,\n",
    "                     usecols=[0,1,2],\n",
    "                     names=['movie_id', 'name', 'release_year'],\n",
    "                     encoding = 'ISO-8859-1')\n",
    "movies['release_year'] = movies['release_year'].apply(lambda s: None if pd.isnull(s) else int(s.split('-')[2]))\n",
    "\n",
    "\n",
    "\n",
    "ratings = pd.read_csv(os.path.join(data_path, 'u.data'),\n",
    "                      sep='\\t',\n",
    "                      header=None,\n",
    "                      usecols=[0,1,2],\n",
    "                      names=['movie_id', 'user_id', 'rating'])\n",
    "ratings = ratings.merge(movies, 'left', left_on='movie_id', right_index=True)\n",
    "\n",
    "print(\"{} data points were loaded.\".format(len(ratings)))\n",
    "\n",
    "#movies.head()\n",
    "ratings.head()"
   ]
  },
  {
   "cell_type": "markdown",
   "metadata": {
    "id": "g9AryqUzrZtp"
   },
   "source": [
    "Pandas' data frames can sliced like Python's lists. For instance, to obtain the first 10 entries of a data frame df it can be written df[0:10] or df.head(10). Pandas supports basic descriptive statistics via the 'describe' method."
   ]
  },
  {
   "cell_type": "code",
   "execution_count": 49,
   "metadata": {
    "id": "v7BafbYxrZtq"
   },
   "outputs": [
    {
     "name": "stdout",
     "output_type": "stream",
     "text": [
      "   movie_id  user_id  rating  \\\n",
      "0       196      242       3   \n",
      "1       186      302       3   \n",
      "2        22      377       1   \n",
      "3       244       51       2   \n",
      "4       166      346       1   \n",
      "5       298      474       4   \n",
      "6       115      265       2   \n",
      "7       253      465       5   \n",
      "8       305      451       3   \n",
      "9         6       86       3   \n",
      "\n",
      "                                                name  release_year  \n",
      "0                          Dead Poets Society (1989)        1989.0  \n",
      "1                         Blues Brothers, The (1980)        1980.0  \n",
      "2                                  Braveheart (1995)        1996.0  \n",
      "3                      Smilla's Sense of Snow (1997)        1997.0  \n",
      "4     Manon of the Spring (Manon des sources) (1986)        1986.0  \n",
      "5                                    Face/Off (1997)        1997.0  \n",
      "6    Haunted World of Edward D. Wood Jr., The (1995)        1996.0  \n",
      "7                            Pillow Book, The (1995)        1997.0  \n",
      "8                              Ice Storm, The (1997)        1997.0  \n",
      "9  Shanghai Triad (Yao a yao yao dao waipo qiao) ...        1995.0  \n",
      "mean    3.529860\n",
      "std     1.125674\n",
      "min     1.000000\n",
      "25%     3.000000\n",
      "50%     4.000000\n",
      "75%     4.000000\n",
      "max     5.000000\n",
      "Name: rating, dtype: float64\n",
      "Index(['name', 'release_year'], dtype='object')\n"
     ]
    }
   ],
   "source": [
    "print(ratings.head(10))\n",
    "print(ratings.describe().rating[1:])\n",
    "print(movies.columns)"
   ]
  },
  {
   "cell_type": "code",
   "execution_count": 56,
   "metadata": {},
   "outputs": [
    {
     "name": "stdout",
     "output_type": "stream",
     "text": [
      "Index(['index', 'movie_id', 'name', 'release_year'], dtype='object')\n"
     ]
    }
   ],
   "source": [
    "movies = movies.reset_index()\n",
    "print(movies.columns)"
   ]
  },
  {
   "cell_type": "markdown",
   "metadata": {
    "id": "LeJe6Fx2rZtq"
   },
   "source": [
    "Also advanced methods of selection are available. The following method gives an example of selecting all pairs of movies and ratings a specific user has done."
   ]
  },
  {
   "cell_type": "code",
   "execution_count": 5,
   "metadata": {
    "id": "Jt5G9tFKrZtr"
   },
   "outputs": [
    {
     "name": "stdout",
     "output_type": "stream",
     "text": [
      "      movie_id                                         name  rating\n",
      "0          196                    Dead Poets Society (1989)       3\n",
      "253         63                     Santa Clause, The (1994)       3\n",
      "629        226                            Die Hard 2 (1990)       5\n",
      "1232       154          Monty Python's Life of Brian (1979)       3\n",
      "2159       306  Mrs. Brown (Her Majesty, Mrs. Brown) (1997)       5\n",
      "2335       296                          Promesse, La (1996)       4\n",
      "2600        34                  Doom Generation, The (1995)       5\n",
      "3484       271                     Starship Troopers (1997)       4\n",
      "4082       201                          Evil Dead II (1987)       4\n",
      "5548       209                    This Is Spinal Tap (1984)       4\n"
     ]
    }
   ],
   "source": [
    "def rated_movies_by_user(user_id):\n",
    "    return ratings[ratings['user_id'] == user_id][['movie_id', 'name', 'rating']]\n",
    "\n",
    "print(rated_movies_by_user(242)[:10])"
   ]
  },
  {
   "cell_type": "markdown",
   "metadata": {
    "id": "B40r38xNrZtr"
   },
   "source": [
    "Pandas supports some plotting capabilities out of the box (that, for instance, uses matplotlib)."
   ]
  },
  {
   "cell_type": "code",
   "execution_count": 6,
   "metadata": {
    "id": "5Wl78pG_rZts"
   },
   "outputs": [
    {
     "data": {
      "image/png": "[encoded data removed]",
      "text/plain": [
       "<Figure size 640x480 with 1 Axes>"
      ]
     },
     "metadata": {},
     "output_type": "display_data"
    },
    {
     "data": {
      "image/png": "[encoded data removed]",
      "text/plain": [
       "<Figure size 640x480 with 1 Axes>"
      ]
     },
     "metadata": {},
     "output_type": "display_data"
    }
   ],
   "source": [
    "%matplotlib inline\n",
    "import matplotlib.pyplot as plt\n",
    "\n",
    "ratings.hist(bins=5, grid=False, column='rating', ec='k')\n",
    "plt.xlim(1, 5)\n",
    "plt.xlabel('Rating')\n",
    "plt.ylabel('#Votes')\n",
    "plt.title('Distribution of ratings')\n",
    "plt.xticks([1, 2, 3, 4, 5])\n",
    "plt.show()\n",
    "\n",
    "ratings.groupby('user_id')['rating'].count().hist(grid=False, ec='k')\n",
    "plt.xlabel('Number of ratings')\n",
    "plt.ylabel('#Users')\n",
    "plt.title('Number of users with a given rating density')\n",
    "plt.show()"
   ]
  },
  {
   "cell_type": "markdown",
   "metadata": {
    "id": "TDCdkJDYrZts"
   },
   "source": [
    "#### Exercise 1.1\n",
    "How is the distribution of the movies' release dates? What is the implication for the recommendation system? Could this data set be used to engineer a recommender for \"film classics\"?"
   ]
  },
  {
   "cell_type": "code",
   "execution_count": 7,
   "metadata": {
    "id": "3oFccxDRrZts"
   },
   "outputs": [
    {
     "data": {
      "image/png": "[encoded data removed]",
      "text/plain": [
       "<Figure size 640x480 with 1 Axes>"
      ]
     },
     "metadata": {},
     "output_type": "display_data"
    }
   ],
   "source": [
    "# Ex. 1.1\n",
    "movies['release_year'].dropna().hist(bins=50,grid=False,edgecolor='black')\n",
    "plt.xlabel('release year')\n",
    "plt.ylabel('#movies')\n",
    "plt.title('Distribution of movies release year')\n",
    "plt.show()"
   ]
  },
  {
   "cell_type": "markdown",
   "metadata": {},
   "source": [
    "Skewness in release years:most movies are released after 1900, it may suggest that users predominantly rate more recent movies, leading to a bias in favor of these newer titles and affect recommendations for older films.\n",
    "\n",
    "Sparse Data for Older Movies: since fewer ratings for older movies, the recommendation system might struggle to recommend those."
   ]
  },
  {
   "cell_type": "code",
   "execution_count": 8,
   "metadata": {},
   "outputs": [
    {
     "name": "stdout",
     "output_type": "stream",
     "text": [
      "                                         name  release_year\n",
      "movie_id                                                   \n",
      "30                       Belle de jour (1967)        1967.0\n",
      "74        Faster Pussycat! Kill! Kill! (1965)        1965.0\n",
      "102                    Aristocats, The (1970)        1970.0\n",
      "131             Breakfast at Tiffany's (1961)        1961.0\n",
      "135              2001: A Space Odyssey (1968)        1968.0\n"
     ]
    },
    {
     "data": {
      "text/html": [
       "<div>\n",
       "<style scoped>\n",
       "    .dataframe tbody tr th:only-of-type {\n",
       "        vertical-align: middle;\n",
       "    }\n",
       "\n",
       "    .dataframe tbody tr th {\n",
       "        vertical-align: top;\n",
       "    }\n",
       "\n",
       "    .dataframe thead th {\n",
       "        text-align: right;\n",
       "    }\n",
       "</style>\n",
       "<table border=\"1\" class=\"dataframe\">\n",
       "  <thead>\n",
       "    <tr style=\"text-align: right;\">\n",
       "      <th></th>\n",
       "      <th>name</th>\n",
       "      <th>release_year</th>\n",
       "    </tr>\n",
       "    <tr>\n",
       "      <th>movie_id</th>\n",
       "      <th></th>\n",
       "      <th></th>\n",
       "    </tr>\n",
       "  </thead>\n",
       "  <tbody>\n",
       "    <tr>\n",
       "      <th>30</th>\n",
       "      <td>Belle de jour (1967)</td>\n",
       "      <td>1967.0</td>\n",
       "    </tr>\n",
       "    <tr>\n",
       "      <th>50</th>\n",
       "      <td>Star Wars (1977)</td>\n",
       "      <td>1977.0</td>\n",
       "    </tr>\n",
       "    <tr>\n",
       "      <th>74</th>\n",
       "      <td>Faster Pussycat! Kill! Kill! (1965)</td>\n",
       "      <td>1965.0</td>\n",
       "    </tr>\n",
       "    <tr>\n",
       "      <th>102</th>\n",
       "      <td>Aristocats, The (1970)</td>\n",
       "      <td>1970.0</td>\n",
       "    </tr>\n",
       "    <tr>\n",
       "      <th>127</th>\n",
       "      <td>Godfather, The (1972)</td>\n",
       "      <td>1972.0</td>\n",
       "    </tr>\n",
       "  </tbody>\n",
       "</table>\n",
       "</div>"
      ],
      "text/plain": [
       "                                         name  release_year\n",
       "movie_id                                                   \n",
       "30                       Belle de jour (1967)        1967.0\n",
       "50                           Star Wars (1977)        1977.0\n",
       "74        Faster Pussycat! Kill! Kill! (1965)        1965.0\n",
       "102                    Aristocats, The (1970)        1970.0\n",
       "127                     Godfather, The (1972)        1972.0"
      ]
     },
     "execution_count": 8,
     "metadata": {},
     "output_type": "execute_result"
    }
   ],
   "source": [
    "classic_movies = movies[(movies['release_year'] >= 1950) & (movies['release_year'] <= 1970)]\n",
    "print(classic_movies.head())\n",
    "\n",
    "\n",
    "\n",
    "classic_movies=movies[(movies['release_year']>1940)&(movies['release_year']<1980)]\n",
    "classic_movies.head()\n"
   ]
  },
  {
   "cell_type": "markdown",
   "metadata": {
    "id": "VlzfZ4X_rZtt"
   },
   "source": [
    "#### Exercise 1.2\n",
    "Do the scoring behavior differ among users? Is this problematic for the recommendation system?"
   ]
  },
  {
   "cell_type": "code",
   "execution_count": 9,
   "metadata": {
    "id": "vS5URsPDrZtu"
   },
   "outputs": [
    {
     "name": "stdout",
     "output_type": "stream",
     "text": [
      "count    1682.000000\n",
      "mean        3.076045\n",
      "std         0.781662\n",
      "min         1.000000\n",
      "25%         2.659600\n",
      "50%         3.161528\n",
      "75%         3.653428\n",
      "max         5.000000\n",
      "Name: rating, dtype: float64\n",
      "\n",
      "count    1541.000000\n",
      "mean        1.056714\n",
      "std         0.292709\n",
      "min         0.000000\n",
      "25%         0.915758\n",
      "50%         1.034211\n",
      "75%         1.169401\n",
      "max         2.828427\n",
      "Name: rating, dtype: float64\n"
     ]
    }
   ],
   "source": [
    "# Ex. 1.2\n",
    "\n",
    "average_ratings = ratings.groupby('user_id')['rating'].mean()\n",
    "print(average_ratings.describe())  \n",
    "\n",
    "print('')\n",
    "\n",
    "rating_std_dev = ratings.groupby('user_id')['rating'].std()\n",
    "print(rating_std_dev.describe())\n",
    "\n"
   ]
  },
  {
   "cell_type": "markdown",
   "metadata": {},
   "source": [
    "Lenient raters: These users give high ratings more frequently, which could inflate the apparent quality of certain movies.\n",
    "Harsh raters: These users tend to rate movies more critically, which may make movies appear worse than they actually are to other users"
   ]
  },
  {
   "cell_type": "code",
   "execution_count": 10,
   "metadata": {},
   "outputs": [
    {
     "data": {
      "image/png": "[encoded data removed]",
      "text/plain": [
       "<Figure size 640x480 with 1 Axes>"
      ]
     },
     "metadata": {},
     "output_type": "display_data"
    }
   ],
   "source": [
    "ratings['user_avg'] = ratings.groupby('user_id')['rating'].transform('mean')\n",
    "\n",
    "high_ratings = ratings[ratings['user_avg'] > 4]\n",
    "low_ratings = ratings[ratings['user_avg'] <= 2]\n",
    "\n",
    "plt.hist(high_ratings['rating'], bins=5, alpha=0.5, label='High Rating Users')\n",
    "plt.hist(low_ratings['rating'], bins=5, alpha=0.5, label='Low Rating Users')\n",
    "plt.legend()\n",
    "plt.title('Comparison of Rating Distributions by Rating Behavior')\n",
    "plt.xlabel('Rating')\n",
    "plt.ylabel('Frequency')\n",
    "plt.show()\n"
   ]
  },
  {
   "cell_type": "code",
   "execution_count": 15,
   "metadata": {},
   "outputs": [
    {
     "name": "stdout",
     "output_type": "stream",
     "text": [
      "             mean  median       std  min  max  count\n",
      "user_id                                             \n",
      "1        3.878319     4.0  0.927897    1    5    452\n",
      "2        3.206107     3.0  0.966497    1    5    131\n",
      "3        3.033333     3.0  1.212760    1    5     90\n",
      "4        3.550239     4.0  0.965069    1    5    209\n",
      "5        3.302326     3.0  0.946446    1    5     86\n"
     ]
    }
   ],
   "source": [
    "# Compute descriptive statistics for each user\n",
    "user_stats = ratings.groupby('user_id')['rating'].agg(['mean', 'median', 'std', 'min', 'max', 'count'])\n",
    "print(user_stats.head())\n"
   ]
  },
  {
   "cell_type": "markdown",
   "metadata": {
    "id": "w2XcTRGrrZtu"
   },
   "source": [
    "## 2. Training of a Recommender System"
   ]
  },
  {
   "cell_type": "markdown",
   "metadata": {
    "id": "jlTXqKClrZtu"
   },
   "source": [
    "Given $n$ users, $m$ movies and ratings $y_i$ that user $u^i$ gave for movie $x^i$ for $i = 1,\\dots,r$. For a given integer $k$, the number of latent factors, we want to find the user factor matrix $\\Psi \\in \\mathbb{R}^{n \\times k}$ and the movie factor matrix $\\Phi \\in \\mathbb{R}^{k \\times m}$, that minimize the expression:\n",
    "\n",
    "$$ L(y, \\Psi, \\Phi) = \\sum_{i \\in [r]}{\\mathcal{l}\\left(y^i, \\Psi_{u^i} \\Phi_{x^i} \\right)} + \\lambda( \\|\\Psi\\|_F^2 + \\| \\Phi \\|_F^2), $$\n",
    "\n",
    "where $\\| \\cdot \\|_F$ denotes the <a href=\"https://en.wikipedia.org/wiki/Matrix_norm#Frobenius_norm\">Frobenius norm</a>.\n",
    "\n",
    "Writing $\\hat B = \\Psi \\cdot \\Phi$ as our estimated rating matrix and using the squared loss, we can rewrite the loss function as:\n",
    "\n",
    "$$ L(y, \\Psi, \\Phi) = \\sum_{i \\in [r]}{(y^i - \\hat B_{u^i, x^i})^2} + \\lambda \\left(\\|\\Psi\\|_F^2 + \\|\\Phi\\|_F^2\\right). $$\n",
    "\n",
    "We solve this problem by optimizing $L(y, \\Psi, \\Phi)$ by fixing one of the factor matrices and optimize by the other via gradient descent.\n",
    "\n",
    "The loss function can be vectorized by looking at the rating matrix $B$ (which contains the $y^i$ at row $u^i$ and column $x^i$, unknown entries are marked with the symbol '?'). If we assume that $c + ? = ?$ and $c \\cdot ? = 0$ for all real $c$. The loss function equals:\n",
    "\n",
    "$$ L(B, \\Psi, \\Phi) = \\left\\|B - \\hat B\\right\\|_F^2 + \\lambda \\left(\\|\\Psi\\|_F^2 + \\|\\Phi\\|_F^2\\right) $$\n",
    "\n",
    "To avoid the extra algebra defined on the symbol '?' in most cases we replace the '?' with $0$ (assume the rating labels are nonzero!) and consider a 'weight matrix' $W$, with $W_{i,j}$ is the indicator function whether user $i$ has rated movie $j$. Henceforth,\n",
    "\n",
    "$$ L(B, \\Psi, \\Phi) = \\left\\| W \\circ (\\tilde B - \\hat B) \\right\\|_F^2 + \\lambda \\left(\\|\\Psi\\|_F^2 + \\|\\Phi\\|_F^2\\right), $$\n",
    "\n",
    "where $\\circ$ is the Hadamard or Schur product, defined as $(A \\circ B)_{i, j} = A_{i, j} + B_{i, j}$ for any two matrices $A$ and $B$ of identical shape. Note that most practical implementations of sparse matrices assume that the values not set are zero, which is an important detail for the implementation of recommendation systems, where $B$ is usually a huge yet sparse matrix.\n",
    "\n",
    "<hr />\n",
    "Before we work on the movielens data set we are going through a simple example to make sure things are clear. Our goal is to find $k = 2$ latent factors. We have three users (Alice, Bob, Charlie), who rated four movies (Matrix, Zombieland, Titanic, Schindler's List), resulting in the following matrix:\n",
    "\n",
    "$$  B = \\begin{pmatrix} 5 & 4 & 1 & ? \\\\ 4 & ? & 5 & 4 \\\\ 5 & 3 & ? & 4 \\end{pmatrix}. $$\n",
    "\n",
    "To make handling these matrices easier, we are replacing the unknown values with zeros (giving us $\\tilde B$) and hold a 'weight matrix' $W \\in \\mathbb{R}^{n \\times m}$ that has the same shape as the rating matrix and $W_{i, j}$ is set to the indicator function if there exists a rating by user $i$ of movie $j$.\n",
    "\n",
    "$$ \\begin{align} \\tilde B = \\begin{pmatrix} 5 & 4 & 1 & 0 \\\\ 4 & 0 & 5 & 4 \\\\ 5 & 3 & 0 & 4 \\end{pmatrix},\n",
    "&& W = \\begin{pmatrix} 1 & 1 & 1 & 0 \\\\ 1 & 0 & 1 & 1 \\\\ 1 & 1 & 0 & 1 \\end{pmatrix}. \\end{align}$$\n",
    "\n",
    "From now an we drop the tilde from $\\tilde B$.\n",
    "\n",
    "The implementation of the loss function without regularization can be done as follows:"
   ]
  },
  {
   "cell_type": "code",
   "execution_count": 16,
   "metadata": {
    "id": "MnP5AbVHrZtu"
   },
   "outputs": [
    {
     "name": "stdout",
     "output_type": "stream",
     "text": [
      "0.0\n",
      "1.0\n"
     ]
    }
   ],
   "source": [
    "import numpy as np\n",
    "\n",
    "B = np.asarray(np.matrix('5 4 1 0; 4 0 5 4; 5 3 0 4'))\n",
    "W = np.asarray(np.matrix('1 1 1 0; 1 0 1 1; 1 1 0 1'))\n",
    "\n",
    "def frobenius(A):\n",
    "    return np.linalg.norm(A, 'fro')\n",
    "\n",
    "def schur(A, B):\n",
    "    \"\"\"\n",
    "    Computes the Schur product of A and B.\n",
    "    The * operator for numpy.ndarrays is precisely the Schur product.\n",
    "    \"\"\"\n",
    "    return np.asarray(A) * np.asarray(B)\n",
    "\n",
    "def loss(B_hat, B, W):\n",
    "    return frobenius(schur(W, B - B_hat))**2 # A.base * B.base equals the Schur product of A and B.\n",
    "\n",
    "print(loss(B, B, W))\n",
    "print(loss(np.matrix('4 4 1 2; 4 0 5 4; 5 3 0 4'), B , W))"
   ]
  },
  {
   "cell_type": "markdown",
   "metadata": {
    "id": "QKnPHlP7rZtu"
   },
   "source": [
    "#### Exercise 2.1\n",
    "Implement the loss function $$ L(B, \\Psi, \\Phi) = \\left\\| W \\circ ( \\Psi \\cdot \\Phi - B) \\right\\|_F^2 + \\lambda \\left(\\|\\Psi\\|_F^2 + \\|\\Phi\\|_F^2\\right), $$ with and without regularization."
   ]
  },
  {
   "cell_type": "code",
   "execution_count": null,
   "metadata": {
    "id": "7SJbsCCcrZtw"
   },
   "outputs": [],
   "source": [
    "# Ex. 2.1\n",
    "\n",
    "# Ex. 2.1\n",
    "\n",
    "def loss(Psi, Phi, B, W):\n",
    "    \"\"\"\n",
    "    Computes the loss function L(B, Psi, Phi) = ||W ∘ (Psi * Phi - B)||_F^2\n",
    "    without regularization.\n",
    "    \n",
    "    Args:\n",
    "        Psi (ndarray): User factor matrix, shape (n_users, k)\n",
    "        Phi (ndarray): Movie factor matrix, shape (k, n_movies)\n",
    "        B (ndarray): Rating matrix, shape (n_users, n_movies)\n",
    "        W (ndarray): Weight matrix, shape (n_users, n_movies)\n",
    "        \n",
    "    Returns:\n",
    "        float: Loss value.\n",
    "    \"\"\"\n",
    "    B_hat = Psi @ Phi  # Compute predicted rating matrix\n",
    "    error = W * (B_hat - B)  # Weighted error\n",
    "    return np.linalg.norm(error, 'fro') ** 2  # Frobenius norm squared\n",
    "\n",
    "def reg_loss(Psi, Phi, B, W, lambd=0.1):\n",
    "    \"\"\"\n",
    "    Computes the loss function with regularization:\n",
    "    L(B, Psi, Phi) = ||W ∘ (Psi * Phi - B)||_F^2 + λ(||Psi||_F^2 + ||Phi||_F^2).\n",
    "    \n",
    "    Args:\n",
    "        Psi (ndarray): User factor matrix, shape (n_users, k)\n",
    "        Phi (ndarray): Movie factor matrix, shape (k, n_movies)\n",
    "        B (ndarray): Rating matrix, shape (n_users, n_movies)\n",
    "        W (ndarray): Weight matrix, shape (n_users, n_movies)\n",
    "        lambd (float): Regularization parameter (default: 0.1)\n",
    "        \n",
    "    Returns:\n",
    "        float: Regularized loss value.\n",
    "    \"\"\"\n",
    "    B_hat = Psi @ Phi  # Compute predicted rating matrix\n",
    "    error = W * (B_hat - B)  # Weighted error\n",
    "    # Penalizes large entries in ΨΨ and ΦΦ to avoid overfitting.\n",
    "    reg_term = lambd * (np.linalg.norm(Psi, 'fro') ** 2 + np.linalg.norm(Phi, 'fro') ** 2)  # Regularization term\n",
    "    return np.linalg.norm(error, 'fro') ** 2 + reg_term\n"
   ]
  },
  {
   "cell_type": "code",
   "execution_count": 18,
   "metadata": {},
   "outputs": [
    {
     "name": "stdout",
     "output_type": "stream",
     "text": [
      "Loss without regularization: 115.18590354377157\n",
      "Loss with regularization: 115.8142673699117\n"
     ]
    }
   ],
   "source": [
    "# Example data\n",
    "B = np.array([[5, 4, 1, 0], [4, 0, 5, 4], [5, 3, 0, 4]])\n",
    "W = np.array([[1, 1, 1, 0], [1, 0, 1, 1], [1, 1, 0, 1]])\n",
    "Psi = np.random.rand(3, 2)  # 3 users, 2 latent factors\n",
    "Phi = np.random.rand(2, 4)  # 2 latent factors, 4 movies\n",
    "\n",
    "# Loss without regularization\n",
    "print(\"Loss without regularization:\", loss(Psi, Phi, B, W))\n",
    "\n",
    "# Loss with regularization\n",
    "print(\"Loss with regularization:\", reg_loss(Psi, Phi, B, W, lambd=0.1))\n"
   ]
  },
  {
   "cell_type": "markdown",
   "metadata": {
    "id": "gOmFtY5grZtw"
   },
   "source": [
    "The following code minimize the regularised loss function by the Alternating Least Squares method presented in the lecture. Compare with the lecture slides and try to understand the steps of the algorithm."
   ]
  },
  {
   "cell_type": "code",
   "execution_count": 19,
   "metadata": {
    "id": "FT6PmWvbrZtw"
   },
   "outputs": [],
   "source": [
    "import time\n",
    "\n",
    "def incremental_als(B, W, k, lambd=0.1, iterations=10, verbose=True):\n",
    "    m_user, n_movies = B.shape\n",
    "    Psi = np.random.rand(m_user, k) # latent user features\n",
    "    Phi = np.random.rand(k, n_movies) # latent movie features\n",
    "\n",
    "    losses = np.zeros(iterations)\n",
    "    for n in range(iterations):\n",
    "        t0 = time.time()\n",
    "\n",
    "        # opt. for all user\n",
    "        for u, Wu in enumerate(W):\n",
    "            Psi[u] = np.linalg.solve(np.dot(Phi, np.dot(np.diag(Wu), Phi.T)) + lambd * np.eye(k),\n",
    "                                   np.dot(Phi, np.dot(np.diag(Wu), B[u].T))).T\n",
    "\n",
    "        # opt. for all movies\n",
    "        for x, Wx in enumerate(W.T):\n",
    "            Phi[:,x] = np.linalg.solve(np.dot(Psi.T, np.dot(np.diag(Wx), Psi)) + lambd * np.eye(k),\n",
    "                                     np.dot(Psi.T, np.dot(np.diag(Wx), B[:, x])))\n",
    "\n",
    "        losses[n] = frobenius(schur(W, B - Psi.dot(Phi)))**2\n",
    "\n",
    "        if verbose:\n",
    "            print('[round: {}, duration: {:6.2f} sec., loss: {:6.2f}]'.format(n, time.time() - t0, losses[n]))\n",
    "\n",
    "    if verbose:\n",
    "        plt.plot(losses, marker='s')\n",
    "        plt.xlabel('Iteration Round')\n",
    "        plt.ylabel('Squared Loss')\n",
    "\n",
    "    return Psi, Phi"
   ]
  },
  {
   "cell_type": "markdown",
   "metadata": {
    "id": "ujWMh91lrZtw"
   },
   "source": [
    "#### Exercise 2.2\n",
    "Use the implementation of the incremental_als methode to approximate $\\Psi$ and $\\Phi$ with 2 latent features for our example matrices $B$ and $W$."
   ]
  },
  {
   "cell_type": "code",
   "execution_count": 20,
   "metadata": {
    "id": "p0akpNLLrZtw"
   },
   "outputs": [
    {
     "name": "stdout",
     "output_type": "stream",
     "text": [
      "[round: 0, duration:   0.00 sec., loss:   2.52]\n",
      "[round: 1, duration:   0.00 sec., loss:   0.66]\n",
      "[round: 2, duration:   0.00 sec., loss:   0.15]\n",
      "[round: 3, duration:   0.00 sec., loss:   0.04]\n",
      "[round: 4, duration:   0.00 sec., loss:   0.02]\n",
      "[round: 5, duration:   0.00 sec., loss:   0.02]\n",
      "[round: 6, duration:   0.00 sec., loss:   0.02]\n",
      "[round: 7, duration:   0.00 sec., loss:   0.02]\n",
      "[round: 8, duration:   0.00 sec., loss:   0.02]\n",
      "[round: 9, duration:   0.00 sec., loss:   0.02]\n",
      "\n",
      "Approximated User Features Matrix (Psi):\n",
      "[[3.13082859 0.55747115]\n",
      " [1.4211263  3.31020738]\n",
      " [2.73007484 1.52472289]]\n",
      "\n",
      "Approximated Movie Features Matrix (Phi):\n",
      "[[ 1.49399068  1.30958092  0.06417529  1.02508293]\n",
      " [ 0.56943627 -0.34102447  1.46852941  0.76597601]]\n",
      "\n",
      "Reconstructed Rating Matrix (B_pred):\n",
      "[[4.99487303 3.90996208 1.01958461 3.63636847]\n",
      " [4.00810161 0.73221817 4.95233809 3.99231176]\n",
      " [4.94693889 3.05528611 2.41430375 3.96645428]]\n"
     ]
    },
    {
     "data": {
      "image/png": "[encoded data removed]",
      "text/plain": [
       "<Figure size 640x480 with 1 Axes>"
      ]
     },
     "metadata": {},
     "output_type": "display_data"
    }
   ],
   "source": [
    "# Ex. 2.2\n",
    "import numpy as np\n",
    "\n",
    "# Define B and W matrices\n",
    "B = np.array([[5, 4, 1, 0], \n",
    "              [4, 0, 5, 4], \n",
    "              [5, 3, 0, 4]])  \n",
    "\n",
    "W = np.array([[1, 1, 1, 0], \n",
    "              [1, 0, 1, 1], \n",
    "              [1, 1, 0, 1]])  \n",
    "\n",
    "# Set parameters\n",
    "k = 2  # Number of latent features\n",
    "lambda_reg = 0.1  # Regularization term\n",
    "iterations = 10  # Number of iterations\n",
    "\n",
    "# Call the ALS implementation\n",
    "Psi, Phi = incremental_als(B, W, k, lambd=lambda_reg, iterations=iterations, verbose=True)\n",
    "\n",
    "# Display the results\n",
    "print(\"\\nApproximated User Features Matrix (Psi):\")\n",
    "print(Psi)\n",
    "\n",
    "print(\"\\nApproximated Movie Features Matrix (Phi):\")\n",
    "print(Phi)\n",
    "\n",
    "# Reconstructed rating matrix\n",
    "B_pred = Psi.dot(Phi)\n",
    "print(\"\\nReconstructed Rating Matrix (B_pred):\")\n",
    "print(B_pred)\n"
   ]
  },
  {
   "cell_type": "markdown",
   "metadata": {
    "id": "Uy1_OzPTrZtx"
   },
   "source": [
    "#### Exercise 2.3\n",
    "We can now predict ratings for movies by calculating $\\hat B = \\Psi \\cdot \\Phi$. Would Alice like Schindler's list? (Alice is the first row, Schindler's list is the fourth column)"
   ]
  },
  {
   "cell_type": "code",
   "execution_count": 21,
   "metadata": {
    "id": "vQBrvcr5rZtx"
   },
   "outputs": [
    {
     "name": "stdout",
     "output_type": "stream",
     "text": [
      "Predicted rating for Alice and Schindler's List: 2.20\n",
      "Alice might not enjoy Schindler's List.\n"
     ]
    }
   ],
   "source": [
    "# Ex. 2.3\n",
    "\n",
    "import numpy as np\n",
    "\n",
    "# Example matrices Psi (user features) and Phi (movie features)\n",
    "Psi = np.array([[0.8, 1.2],\n",
    "                [0.5, 0.7],\n",
    "                [1.0, 0.9]])\n",
    "\n",
    "Phi = np.array([[1.1, 0.9, 1.0, 0.8],\n",
    "                [0.7, 1.2, 0.8, 1.3]])\n",
    "\n",
    "# Calculate the predicted rating matrix\n",
    "B_hat = np.dot(Psi, Phi)\n",
    "\n",
    "# Alice's index (0) and Schindler's List index (3)\n",
    "alice_index = 0  # First row corresponds to Alice\n",
    "schindler_index = 3  # Fourth column corresponds to Schindler's List\n",
    "\n",
    "# Predicted rating for Alice and Schindler's List\n",
    "predicted_rating = B_hat[alice_index, schindler_index]\n",
    "\n",
    "print(f\"Predicted rating for Alice and Schindler's List: {predicted_rating:.2f}\")\n",
    "\n",
    "# Interpret the rating\n",
    "if predicted_rating >= 3.0:\n",
    "    print(\"Alice would likely enjoy Schindler's List.\")\n",
    "else:\n",
    "    print(\"Alice might not enjoy Schindler's List.\")\n",
    "\n"
   ]
  },
  {
   "cell_type": "markdown",
   "metadata": {
    "id": "mKoP51kcrZtx"
   },
   "source": [
    "## 3. Working on the MovieLens data\n",
    "\n",
    "Lets get back to the MovieLens data. We will reduce the number of users so training time will only take a couple of seconds instead of minutes."
   ]
  },
  {
   "cell_type": "code",
   "execution_count": 22,
   "metadata": {
    "id": "IshiY2nyrZtx"
   },
   "outputs": [
    {
     "name": "stdout",
     "output_type": "stream",
     "text": [
      "Number of users: 500\n"
     ]
    }
   ],
   "source": [
    "np.random.seed(0)\n",
    "user_ids = ratings.user_id.unique()\n",
    "drop_users = np.random.permutation(user_ids)[500:] # keep 500 users randomly\n",
    "drop_index = ratings.index[ratings.user_id.apply(lambda idx: idx in drop_users).values]\n",
    "ratings = ratings.drop(drop_index).reset_index(drop=True)\n",
    "\n",
    "print('Number of users: {}'.format(ratings.user_id.unique().shape[0]))"
   ]
  },
  {
   "cell_type": "markdown",
   "metadata": {
    "id": "HpM1jI8JrZtx"
   },
   "source": [
    "#### Exercise 3.1\n",
    "placing everything we did so far together. We Construct the $B$ and $W$ matrix from the MovieLens data. The <a href=\"http://pandas.pydata.org/pandas-docs/stable/generated/pandas.pivot_table.html\">pandas.pivot_table</a> method can be helpful. Learn $\\Psi$ and $\\Phi$  with 50 latent features and $\\lambda = 2.5$. Print out the top 10 rated movies for some users and compare with the predicted rating from the recommender."
   ]
  },
  {
   "cell_type": "code",
   "execution_count": 23,
   "metadata": {
    "id": "T9p3V75BrZtx"
   },
   "outputs": [
    {
     "name": "stdout",
     "output_type": "stream",
     "text": [
      "[round: 0, duration: 8.10 sec., loss: 10451.09]\n",
      "[round: 1, duration: 7.10 sec., loss: 4742.15]\n",
      "[round: 2, duration: 7.04 sec., loss: 3483.61]\n",
      "[round: 3, duration: 6.98 sec., loss: 2945.33]\n",
      "[round: 4, duration: 7.62 sec., loss: 2652.75]\n",
      "[round: 5, duration: 6.99 sec., loss: 2469.61]\n",
      "[round: 6, duration: 7.02 sec., loss: 2343.76]\n",
      "[round: 7, duration: 7.29 sec., loss: 2251.39]\n",
      "[round: 8, duration: 7.12 sec., loss: 2180.17]\n",
      "[round: 9, duration: 7.00 sec., loss: 2123.22]\n"
     ]
    },
    {
     "data": {
      "image/png": "[encoded data removed]",
      "text/plain": [
       "<Figure size 640x480 with 1 Axes>"
      ]
     },
     "metadata": {},
     "output_type": "display_data"
    }
   ],
   "source": [
    "# Ex. 3.1\n",
    "\n",
    "# Creating pivot table for B (user-item matrix) and W (weight matrix)\n",
    "B = ratings.pivot_table(index='user_id', columns='movie_id', values='rating', fill_value=0).values\n",
    "W = (B > 0).astype(int)  # Indicator matrix\n",
    "\n",
    "# Function definitions for frobenius and schur product\n",
    "def frobenius(A):\n",
    "    return np.linalg.norm(A, 'fro')\n",
    "\n",
    "def schur(A, B):\n",
    "    return np.asarray(A) * np.asarray(B)\n",
    "\n",
    "# Incremental ALS implementation\n",
    "def incremental_als(B, W, k, lambd=2.5, iterations=10, verbose=True):\n",
    "    m_user, n_movies = B.shape\n",
    "    Psi = np.random.rand(m_user, k)  # Latent user features\n",
    "    Phi = np.random.rand(k, n_movies)  # Latent movie features\n",
    "\n",
    "    losses = np.zeros(iterations)\n",
    "    for n in range(iterations):\n",
    "        t0 = time.time()\n",
    "\n",
    "        # Optimize user features\n",
    "        for u, Wu in enumerate(W):\n",
    "            Psi[u] = np.linalg.solve(\n",
    "                np.dot(Phi, np.dot(np.diag(Wu), Phi.T)) + lambd * np.eye(k),\n",
    "                np.dot(Phi, np.dot(np.diag(Wu), B[u].T))\n",
    "            ).T\n",
    "\n",
    "        # Optimize movie features\n",
    "        for x, Wx in enumerate(W.T):\n",
    "            Phi[:, x] = np.linalg.solve(\n",
    "                np.dot(Psi.T, np.dot(np.diag(Wx), Psi)) + lambd * np.eye(k),\n",
    "                np.dot(Psi.T, np.dot(np.diag(Wx), B[:, x]))\n",
    "            )\n",
    "\n",
    "        # Compute loss\n",
    "        losses[n] = frobenius(schur(W, B - Psi.dot(Phi))) ** 2\n",
    "\n",
    "        if verbose:\n",
    "            print(f'[round: {n}, duration: {time.time() - t0:.2f} sec., loss: {losses[n]:.2f}]')\n",
    "\n",
    "    if verbose:\n",
    "        import matplotlib.pyplot as plt\n",
    "        plt.plot(losses, marker='s')\n",
    "        plt.xlabel('Iteration Round')\n",
    "        plt.ylabel('Squared Loss')\n",
    "        plt.title('Training Loss over Iterations')\n",
    "        plt.show()\n",
    "\n",
    "    return Psi, Phi\n",
    "\n",
    "# Train the model\n",
    "k = 50  # Number of latent features\n",
    "Psi, Phi = incremental_als(B, W, k, lambd=2.5, iterations=10)\n"
   ]
  },
  {
   "cell_type": "code",
   "execution_count": 57,
   "metadata": {},
   "outputs": [
    {
     "name": "stdout",
     "output_type": "stream",
     "text": [
      "\n",
      "Top 10 Predicted Movies for User 1:\n",
      "Rosencrantz and Guildenstern Are Dead (1990) (Predicted: 4.99)\n",
      "Courage Under Fire (1996) (Predicted: 4.95)\n",
      "Bound (1996) (Predicted: 4.92)\n",
      "Chamber, The (1996) (Predicted: 4.83)\n",
      "Jungle2Jungle (1997) (Predicted: 4.81)\n",
      "Die Hard: With a Vengeance (1995) (Predicted: 4.74)\n",
      "Meet Me in St. Louis (1944) (Predicted: 4.62)\n",
      "Son in Law (1993) (Predicted: 4.61)\n",
      "Amityville: Dollhouse (1996) (Predicted: 4.54)\n",
      "Sabrina (1954) (Predicted: 4.50)\n",
      "\n",
      "Top 10 Actual Rated Movies for User 1:\n",
      "Courage Under Fire (1996) (Actual: 5.00)\n",
      "Die Hard: With a Vengeance (1995) (Actual: 5.00)\n",
      "Othello (1995) (Actual: 5.00)\n",
      "Amityville: Dollhouse (1996) (Actual: 5.00)\n",
      "Bound (1996) (Actual: 5.00)\n",
      "Chamber, The (1996) (Actual: 5.00)\n",
      "Jungle2Jungle (1997) (Actual: 5.00)\n",
      "Son in Law (1993) (Actual: 5.00)\n",
      "Sabrina (1954) (Actual: 5.00)\n",
      "Meet Me in St. Louis (1944) (Actual: 5.00)\n"
     ]
    }
   ],
   "source": [
    "# Predict ratings\n",
    "B_hat = np.dot(Psi, Phi)\n",
    "\n",
    "# Map movie IDs to movie names\n",
    "movie_mapping = movies.set_index('movie_id')['name'].to_dict()\n",
    "\n",
    "# Function to get top-rated movies\n",
    "def get_top_movies(user_id, B, B_hat, movie_mapping, top_n=10):\n",
    "    user_idx = user_id - 1  # Map user_id to row index\n",
    "    rated_movies = np.where(B[user_idx] > 0)[0]\n",
    "    predicted_ratings = B_hat[user_idx]\n",
    "\n",
    "    # Get top movies\n",
    "    top_predicted = np.argsort(predicted_ratings)[::-1][:top_n]\n",
    "    top_actual = np.argsort(B[user_idx])[::-1][:top_n]\n",
    "\n",
    "    print(f\"\\nTop {top_n} Predicted Movies for User {user_id}:\")\n",
    "    for idx in top_predicted:\n",
    "        print(f\"{movie_mapping[idx]} (Predicted: {predicted_ratings[idx]:.2f})\")\n",
    "\n",
    "    print(f\"\\nTop {top_n} Actual Rated Movies for User {user_id}:\")\n",
    "    for idx in top_actual:\n",
    "        print(f\"{movie_mapping[idx]} (Actual: {B[user_idx, idx]:.2f})\")\n",
    "\n",
    "# Example: Evaluate for a random user\n",
    "get_top_movies(user_id=1, B=B, B_hat=B_hat, movie_mapping=movie_mapping, top_n=10)\n"
   ]
  },
  {
   "cell_type": "markdown",
   "metadata": {
    "id": "Z0ZmbafZrZty"
   },
   "source": [
    " We still don't know whether we over or under fit the data and which $k$ and $\\lambda$ would be best. The incremental_cv_als method is an extended which takes a training and a test set as input and additionally returns the training and test loss."
   ]
  },
  {
   "cell_type": "code",
   "execution_count": 58,
   "metadata": {
    "id": "pt_o1h5UrZty"
   },
   "outputs": [],
   "source": [
    "def incremental_cv_als(B_train, W_train, B_test, W_test, k, lambd=0.1, iterations=10, verbose=True):\n",
    "    m_user, n_movies = B_train.shape\n",
    "    Psi = np.random.rand(m_user, k) # latent user features\n",
    "    Phi = np.random.rand(k, n_movies) # latent movie features\n",
    "\n",
    "    losses_train = np.zeros(iterations)\n",
    "    losses_test = np.zeros(iterations)\n",
    "    for n in range(iterations):\n",
    "        t0 = time.time()\n",
    "\n",
    "        # opt. for all user\n",
    "        for u, Wu in enumerate(W_train):\n",
    "            Psi[u] = np.linalg.solve(np.dot(Phi, np.dot(np.diag(Wu), Phi.T)) + lambd * np.eye(k),\n",
    "                                   np.dot(Phi, np.dot(np.diag(Wu), B_train[u].T))).T\n",
    "\n",
    "        # opt. for all movies\n",
    "        for x, Wx in enumerate(W_train.T):\n",
    "            Phi[:,x] = np.linalg.solve(np.dot(Psi.T, np.dot(np.diag(Wx), Psi)) + lambd * np.eye(k),\n",
    "                                     np.dot(Psi.T, np.dot(np.diag(Wx), B_train[:, x])))\n",
    "\n",
    "        losses_train[n] = frobenius(schur(W_train, B_train - Psi.dot(Phi)))**2\n",
    "        losses_test[n] = frobenius(schur(W_test, B_test - Psi.dot(Phi)))**2\n",
    "\n",
    "        if verbose:\n",
    "            out_str = '[round: {}, duration: {:6.2f} sec., loss: {:6.2f}, test loss: {:6.2f}]'\n",
    "            print(out_str.format(n, time.time() - t0, losses_train[n], losses_test[n]))\n",
    "\n",
    "    if verbose:\n",
    "        plt.plot(losses_train, marker='s', label='train')\n",
    "        plt.plot(losses_test, marker='s', label='test')\n",
    "        plt.xlabel('Iteration Round')\n",
    "        plt.ylabel('Squared Loss')\n",
    "        plt.legend(loc='best')\n",
    "\n",
    "        return (Psi, Phi), (losses_train[-1], losses_test[-1])"
   ]
  },
  {
   "cell_type": "markdown",
   "metadata": {
    "id": "nf9f7HBarZty"
   },
   "source": [
    "#### Exercise 3.2\n",
    "Split the data in a training and test set by creating $B_{train}$ and $B_{test}$ matrix from $B$ in such a way that about 75% percent of the ratings from $B$ are in $B_{train}$ and the remaining 25% of the ratings are in $B_{test}$ . Also construct $W_{train}$ and $W_{test}$. Use the incremental_cv_als to search for good parameter $k$ and $\\lambda$ which minimize the test loss and don't over fit on the training set."
   ]
  },
  {
   "cell_type": "code",
   "execution_count": 59,
   "metadata": {
    "id": "SdV4wE_RrZty"
   },
   "outputs": [],
   "source": [
    "# Ex. 3.2\n",
    "import numpy as np\n",
    "\n",
    "# Assume B and W are already defined\n",
    "np.random.seed(0)\n",
    "\n",
    "# Create boolean mask for splitting\n",
    "non_zero_indices = np.array(np.where(B > 0)).T\n",
    "num_ratings = non_zero_indices.shape[0]\n",
    "num_train = int(0.75 * num_ratings)\n",
    "\n",
    "# Shuffle and split indices\n",
    "shuffled_indices = np.random.permutation(non_zero_indices)\n",
    "train_indices = shuffled_indices[:num_train]\n",
    "test_indices = shuffled_indices[num_train:]\n",
    "\n",
    "# Initialize train and test matrices\n",
    "B_train = np.zeros_like(B)\n",
    "B_test = np.zeros_like(B)\n",
    "W_train = np.zeros_like(W)\n",
    "W_test = np.zeros_like(W)\n",
    "\n",
    "# Populate train and test matrices\n",
    "for i, j in train_indices:\n",
    "    B_train[i, j] = B[i, j]\n",
    "    W_train[i, j] = 1\n",
    "\n",
    "for i, j in test_indices:\n",
    "    B_test[i, j] = B[i, j]\n",
    "    W_test[i, j] = 1\n"
   ]
  }
 ],
 "metadata": {
  "colab": {
   "provenance": []
  },
  "kernelspec": {
   "display_name": "Python 3",
   "language": "python",
   "name": "python3"
  },
  "language_info": {
   "codemirror_mode": {
    "name": "ipython",
    "version": 3
   },
   "file_extension": ".py",
   "mimetype": "text/x-python",
   "name": "python",
   "nbconvert_exporter": "python",
   "pygments_lexer": "ipython3",
   "version": "3.12.6"
  }
 },
 "nbformat": 4,
 "nbformat_minor": 0
}
